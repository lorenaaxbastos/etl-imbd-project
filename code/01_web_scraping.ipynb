{
 "cells": [
  {
   "cell_type": "markdown",
   "id": "47cdf882-2050-44dc-a8a2-52900c3348f7",
   "metadata": {},
   "source": [
    "# Web scraping"
   ]
  },
  {
   "cell_type": "markdown",
   "id": "635156d5-fd90-42ea-8264-d53e198ca1b7",
   "metadata": {},
   "source": [
    "In this part of the project, the main goal is to retrieve the main info about the top 250 movies in some genre, do some data cleaning and export it to a CSV file."
   ]
  },
  {
   "cell_type": "markdown",
   "id": "cb591bc7-59e3-45e9-acfe-355c1c4f1c29",
   "metadata": {},
   "source": [
    "## 1 Imports"
   ]
  },
  {
   "cell_type": "code",
   "execution_count": null,
   "id": "38f1aa0c-39a9-4af5-9032-5a47ed48f1e0",
   "metadata": {},
   "outputs": [],
   "source": [
    "from bs4 import BeautifulSoup\n",
    "from warnings import warn\n",
    "from time import sleep\n",
    "from random import randint\n",
    "import requests\n",
    "import numpy as np, pandas as pd"
   ]
  },
  {
   "cell_type": "markdown",
   "id": "605fd490-a5af-4c78-a7f0-fc6e20aa3721",
   "metadata": {},
   "source": [
    "## 2 Scraping and data cleaning\n",
    "\n",
    "1. Define # pages to be scraped\n",
    "2. Create lists to populate Pandas dataframes later\n",
    "3. Get request for documentary movies\n",
    "4. Begin movie extraction and data cleaning"
   ]
  },
  {
   "cell_type": "code",
   "execution_count": null,
   "id": "45f73797-06cf-4b46-81d1-a5afa502f296",
   "metadata": {},
   "outputs": [],
   "source": [
    "# Scrap top 50 documentary movies\n",
    "pages = np.arange(1, 51, 50)\n",
    "headers = {\n",
    "    'Accept-Language': 'en-US,en;q=0.8'\n",
    "}\n",
    "\n",
    "# Empty lists to store variables scraped\n",
    "titles = []\n",
    "years = []\n",
    "ratings = []\n",
    "genres = []\n",
    "runtimes = []\n",
    "imdb_ratings = []\n",
    "metascores = []\n",
    "directors = []\n",
    "stars = []\n",
    "votes = []\n",
    "\n",
    "for page in pages:\n",
    "    response = requests.get('https://m.imdb.com/search/title/?'\n",
    "                            + 'title_type=movie&'\n",
    "                            + 'genres=documentary&'\n",
    "                            + f'start={page}&'\n",
    "                            + 'ref_=adv_prv', headers=headers)\n",
    "    \n",
    "    # slow down requests so it doesn't overload IMDB's servers\n",
    "    sleep(randint(8,15))\n",
    "\n",
    "    if response.status_code != 200:\n",
    "        warn(f'Request: {requests}; Status code: {response.status_code}')\n",
    "    \n",
    "    page_html = BeautifulSoup(response.text, 'html.parser')\n",
    "    movie_containers = page_html.find_all('div', class_ = 'lister-item mode-advanced')\n",
    "\n",
    "    # movies extraction\n",
    "    for container in movie_containers:\n",
    "        title = container.h3.a.text\n",
    "        titles.append(title)\n",
    "\n",
    "        crew = container.find('p', class_='').text.replace('\\n','').replace('|',':').split(':')\n",
    "        crew = [person.strip().split(', ') if ',' in person else person.strip() for person in crew]\n",
    "        directors_ = crew[1] if len(crew) > 1 else ''\n",
    "        directors.append(directors_)\n",
    "        stars_ = crew[-1] if 'Stars' in crew else ''            \n",
    "        stars.append(stars_)\n",
    "\n",
    "        if container.h3.find('span', class_='lister-item-year text-muted unbold') is not None:\n",
    "            year = container.h3.find('span', class_='lister-item-year text-muted unbold').text\n",
    "            year = int(''.join(d for d in year if d.isdigit())) if year else None\n",
    "            years.append(year)\n",
    "        else:\n",
    "            years.append(None)\n",
    "\n",
    "        if container.p.find('span', class_='certificate') is not None:\n",
    "            rating = container.p.find('span', class_='certificate').text\n",
    "            ratings.append(rating)\n",
    "        else:\n",
    "            ratings.append('')\n",
    "\n",
    "        if container.p.find('span', class_='runtime') is not None:\n",
    "            runtime = container.p.find('span', class_='runtime').text.replace(' min', '')\n",
    "            runtime = int(''.join(d for d in runtime if d.isdigit()))\n",
    "            runtimes.append(runtime)\n",
    "        else:\n",
    "            runtimes.append(None)\n",
    "\n",
    "        if container.p.find('span', class_='genre') is not None:\n",
    "            genres_ = container.p.find('span', class_='genre').text\n",
    "            genres_ = genres_.strip().split(', ')\n",
    "            genres.append(genres_)\n",
    "        else:\n",
    "            genres.append([])\n",
    "\n",
    "        if container.strong is not None:\n",
    "            imdb_rating = float(container.strong.text)\n",
    "            imdb_ratings.append(imdb_rating)\n",
    "        else:\n",
    "            imdb_ratings.append(None)\n",
    "\n",
    "        if container.find('span', class_='metascore') is not None:\n",
    "            metascore = int(container.find('span', class_='metascore').text.strip())\n",
    "            metascores.append(metascore)\n",
    "        else:\n",
    "            metascores.append(None)\n",
    "\n",
    "        if container.find('p', class_='sort-num_votes-visible') is not None:\n",
    "            vote = container.find('p', class_='sort-num_votes-visible').text.split('\\n')\n",
    "            vote = int(''.join(d for d in vote[vote.index('Votes:') + 1] if d.isdigit())) if 'Votes:' in vote else None\n",
    "            votes.append(vote)\n",
    "        else:\n",
    "            votes.append(None)"
   ]
  },
  {
   "cell_type": "markdown",
   "id": "e913cf5b-7583-4f46-94d4-d5bf58f08c18",
   "metadata": {},
   "source": [
    "## 3 Create dataframes and export to CSV"
   ]
  },
  {
   "cell_type": "code",
   "execution_count": null,
   "id": "9eba5997-a947-47d5-b6a7-f272c3f7ba07",
   "metadata": {},
   "outputs": [],
   "source": [
    "documentary_df = pd.DataFrame({\n",
    "    'movie': titles,\n",
    "    'year': years,\n",
    "    'rating': ratings,\n",
    "    'genre': genres,\n",
    "    'runtime_min': runtimes,\n",
    "    'imdb': imdb_ratings,\n",
    "    'metascore': metascores,\n",
    "    'votes': votes,\n",
    "    'director(s)': directors,\n",
    "    'stars': stars,\n",
    "})\n",
    "\n",
    "documentary_df.to_csv('../files/scraped_documentary_movies.csv', index=False)"
   ]
  }
 ],
 "metadata": {
  "kernelspec": {
   "display_name": "Python 3 (ipykernel)",
   "language": "python",
   "name": "python3"
  },
  "language_info": {
   "codemirror_mode": {
    "name": "ipython",
    "version": 3
   },
   "file_extension": ".py",
   "mimetype": "text/x-python",
   "name": "python",
   "nbconvert_exporter": "python",
   "pygments_lexer": "ipython3",
   "version": "3.11.3"
  }
 },
 "nbformat": 4,
 "nbformat_minor": 5
}
