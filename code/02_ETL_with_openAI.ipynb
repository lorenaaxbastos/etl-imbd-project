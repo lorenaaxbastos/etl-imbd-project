{
 "cells": [
  {
   "cell_type": "markdown",
   "id": "ca8f97a2-1c1c-420b-96a3-6568c9abb812",
   "metadata": {},
   "source": [
    "# ETL pipeline using AI"
   ]
  },
  {
   "cell_type": "markdown",
   "id": "9552d5ec-e4cc-4c21-81f2-06b1f9a4e3d6",
   "metadata": {},
   "source": [
    "In this part of the project, the main goal is to use openAI's chatGPT to create movies reviews and recommendations based on the data retrieved in the previous steps."
   ]
  },
  {
   "cell_type": "markdown",
   "id": "1a0cba0c-dd8b-44e5-9e8e-a74f3171700e",
   "metadata": {},
   "source": [
    "## 1 Imports"
   ]
  },
  {
   "cell_type": "code",
   "execution_count": null,
   "id": "8de3fd9a-02e8-430f-bcde-4912b5a4ede3",
   "metadata": {},
   "outputs": [],
   "source": [
    "from time import sleep\n",
    "import tkinter as tk\n",
    "import tkinter.filedialog\n",
    "import json\n",
    "import pandas as pd\n",
    "import openai"
   ]
  },
  {
   "cell_type": "markdown",
   "id": "80aae1a3-148e-4d8d-90c9-7f79c659a093",
   "metadata": {},
   "source": [
    "## 2 Extract"
   ]
  },
  {
   "cell_type": "markdown",
   "id": "dc9b9f69-8bc6-4262-90b5-e3f14b1733cc",
   "metadata": {},
   "source": [
    "Extract movies titles from CSV file."
   ]
  },
  {
   "cell_type": "code",
   "execution_count": null,
   "id": "baa38343-6b2a-456b-93e7-893f4ccda29a",
   "metadata": {},
   "outputs": [],
   "source": [
    "documentary_df = pd.read_csv('../files/scraped_documentary_movies.csv')\n",
    "titles = documentary_df['movie'].tolist()"
   ]
  },
  {
   "cell_type": "markdown",
   "id": "68c4f4ed-5ea0-4ec6-ace9-bbe2df49e719",
   "metadata": {},
   "source": [
    "## 3 Transform"
   ]
  },
  {
   "cell_type": "markdown",
   "id": "bb220b47-4e6b-43d5-a696-68fecce3a591",
   "metadata": {},
   "source": [
    "1. Get credentials from config file with Tkinter and JSON libraries\n",
    "2. Integrate openAI API key\n",
    "3. Create function to generate movie reviews and recommendations based on titles\n",
    "4. Generate reviews and recommendations and store them into different variables\n",
    "5. Do some data cleaning with both reviews and recommendations"
   ]
  },
  {
   "cell_type": "code",
   "execution_count": null,
   "id": "29681bfe-d74d-4e79-acd7-e966572137b2",
   "metadata": {},
   "outputs": [],
   "source": [
    "# Get rid of the root window popup\n",
    "root = tk.Tk()\n",
    "root.withdraw()\n",
    "\n",
    "# Select credentials file\n",
    "filepath = tk.filedialog.askopenfilename()\n",
    "file = open(filepath, 'r')\n",
    "\n",
    "# Open credentials file\n",
    "credentials = json.load(file)\n",
    "file.close()\n",
    "openai_api_key = credentials['openai_api_key']\n",
    "\n",
    "# Connect openAI API\n",
    "openai.api_key = openai_api_key\n",
    "\n",
    "# Function to generate movie reviews and recommendations\n",
    "def generate_ai_movie_content(title, content='review'):\n",
    "    review = f\"Create a movie review for {title}. Don't include rating (200 words max)\"\n",
    "    recommendation = f'List three movies you would recommend to people who loved {title}. Provide only the recommended movie titles.'\n",
    "    \n",
    "    completion = openai.ChatCompletion.create(\n",
    "        model = 'gpt-3.5-turbo-16k-0613',\n",
    "        messages = [\n",
    "            {\n",
    "                'role': 'system',\n",
    "                'content': 'You are a film critic.'\n",
    "            },\n",
    "            {\n",
    "                'role': 'user',\n",
    "                'content': review if content == 'review' else recommendation if content == 'recommendation' else None\n",
    "            }\n",
    "        ]\n",
    "    )\n",
    "    return completion.choices[0].message.content.strip('\\\"')"
   ]
  },
  {
   "cell_type": "code",
   "execution_count": null,
   "id": "b1f23a47-31c9-4a83-a167-c737c8cc2206",
   "metadata": {},
   "outputs": [],
   "source": [
    "reviews = []\n",
    "recommendations = []"
   ]
  },
  {
   "cell_type": "code",
   "execution_count": null,
   "id": "76a4baae-9471-4acc-a2a3-67ec18bbcc5e",
   "metadata": {},
   "outputs": [],
   "source": [
    "# Generate reviews and recommendations white doing some data cleaning\n",
    "for title in titles[4:]:\n",
    "    review = [generate_ai_movie_content(title, content='review')]\n",
    "    reviews.append(review)\n",
    "    recommendations_ = generate_ai_movie_content(title, content='recommendation')\n",
    "    recommendations_ = [''.join(c for c in movie if c.isalpha() or c == ' ').strip() for movie in recommendations_.split('\\n')]\n",
    "    recommendations.append(recommendations_)\n",
    "    # Sleep to avoid going over the openai rate per minute (rpm=3 for gpt-3.5)\n",
    "    sleep(40)"
   ]
  },
  {
   "cell_type": "markdown",
   "id": "03797b65-7b54-4d26-bf4e-ecef32bfaaf8",
   "metadata": {},
   "source": [
    "## 3 Load"
   ]
  },
  {
   "cell_type": "markdown",
   "id": "bf9cf075-f4ee-4a40-b853-8c0f2e45475f",
   "metadata": {},
   "source": [
    "1. Create new dataframe for reviews and recommendations\n",
    "2. Combine dataframes\n",
    "3. Create new csv file"
   ]
  },
  {
   "cell_type": "code",
   "execution_count": null,
   "id": "954e8eef-ce69-425b-8c91-c158841b4788",
   "metadata": {},
   "outputs": [],
   "source": [
    "# Create dataframe for new generated content\n",
    "generated_movie_content_df = pd.DataFrame({\n",
    "    'review': reviews,\n",
    "    'recommendations': recommendations\n",
    "})\n",
    "\n",
    "# Combine both dataframes into one and export it as a new CSV file\n",
    "combined_dfs = pd.concat([documentary_df, generated_movie_content_df], axis=1)\n",
    "combined_dfs.to_csv('../files/documentary_movies_dataset_ai_enriched.csv', index=False)"
   ]
  }
 ],
 "metadata": {
  "kernelspec": {
   "display_name": "Python 3 (ipykernel)",
   "language": "python",
   "name": "python3"
  },
  "language_info": {
   "codemirror_mode": {
    "name": "ipython",
    "version": 3
   },
   "file_extension": ".py",
   "mimetype": "text/x-python",
   "name": "python",
   "nbconvert_exporter": "python",
   "pygments_lexer": "ipython3",
   "version": "3.11.3"
  }
 },
 "nbformat": 4,
 "nbformat_minor": 5
}
