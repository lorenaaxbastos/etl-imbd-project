{
 "cells": [
  {
   "cell_type": "markdown",
   "id": "ca8f97a2-1c1c-420b-96a3-6568c9abb812",
   "metadata": {},
   "source": [
    "# ETL pipeline using AI"
   ]
  },
  {
   "cell_type": "markdown",
   "id": "9552d5ec-e4cc-4c21-81f2-06b1f9a4e3d6",
   "metadata": {},
   "source": [
    "In this part of the project, the main goal is to use openAI's chatGPT to create movie recommendations based on the data retrieved in the previous steps."
   ]
  },
  {
   "cell_type": "markdown",
   "id": "80aae1a3-148e-4d8d-90c9-7f79c659a093",
   "metadata": {},
   "source": [
    "## 1 Extract"
   ]
  },
  {
   "cell_type": "code",
   "execution_count": null,
   "id": "baa38343-6b2a-456b-93e7-893f4ccda29a",
   "metadata": {},
   "outputs": [],
   "source": []
  },
  {
   "cell_type": "markdown",
   "id": "68c4f4ed-5ea0-4ec6-ace9-bbe2df49e719",
   "metadata": {},
   "source": [
    "## 2 Transform"
   ]
  },
  {
   "cell_type": "code",
   "execution_count": null,
   "id": "29681bfe-d74d-4e79-acd7-e966572137b2",
   "metadata": {},
   "outputs": [],
   "source": []
  },
  {
   "cell_type": "markdown",
   "id": "03797b65-7b54-4d26-bf4e-ecef32bfaaf8",
   "metadata": {},
   "source": [
    "## 3 Load"
   ]
  },
  {
   "cell_type": "code",
   "execution_count": null,
   "id": "36454e94-428f-4de6-baef-3c4dd84bce5a",
   "metadata": {},
   "outputs": [],
   "source": []
  }
 ],
 "metadata": {
  "kernelspec": {
   "display_name": "Python 3 (ipykernel)",
   "language": "python",
   "name": "python3"
  },
  "language_info": {
   "codemirror_mode": {
    "name": "ipython",
    "version": 3
   },
   "file_extension": ".py",
   "mimetype": "text/x-python",
   "name": "python",
   "nbconvert_exporter": "python",
   "pygments_lexer": "ipython3",
   "version": "3.11.3"
  }
 },
 "nbformat": 4,
 "nbformat_minor": 5
}
